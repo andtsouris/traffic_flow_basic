{
 "cells": [
  {
   "cell_type": "code",
   "execution_count": 1,
   "id": "7456280e",
   "metadata": {},
   "outputs": [],
   "source": [
    "import pandas as pd\n",
    "\n",
    "class Vehicle:\n",
    "    def __init__(self, vehicle_type, accel, decel, length, width, \n",
    "                viz_shape, size, def_color=\"#000000\", stop_pass=False):\n",
    "        self.vehicle_type = vehicle_type\n",
    "        # Set behaviour attributes\n",
    "        self.accel = accel\n",
    "        self.decel = decel\n",
    "        self.length = length #(in meters)\n",
    "        self.width = width #(in meters)\n",
    "        self.stop_pass = stop_pass\n",
    "        # Set visualization attributes\n",
    "        self.viz_shape = viz_shape\n",
    "        self.size = size\n",
    "        self.def_color = def_color\n",
    "\n",
    "    def __repr__(self):\n",
    "        return f\"{self.vehicle_type} vehicle.\""
   ]
  },
  {
   "cell_type": "code",
   "execution_count": null,
   "id": "0f9fab6a",
   "metadata": {},
   "outputs": [],
   "source": [
    "class Car:\n",
    "    def __init__(self, accel=2.0, decel=4.5, length=4.5, width=1.8,\n",
    "                viz_shape=\"rectangle\", size=1.0, def_color=\"#FF0000\", stop_pass=False):\n",
    "        self.vehicle_type = \"car\"\n",
    "        # Set behaviour attributes\n",
    "        self.accel = accel\n",
    "        self.decel = decel\n",
    "        self.length = length\n",
    "        self.width = width\n",
    "        self.stop_pass = stop_pass\n",
    "        # Set visualization attributes\n",
    "        self.viz_shape = viz_shape\n",
    "        self.size = size\n",
    "        self.color = def_color\n",
    "\n",
    "        self.position = []\n",
    "        self.time = []"
   ]
  }
 ],
 "metadata": {
  "kernelspec": {
   "display_name": "Python 3",
   "language": "python",
   "name": "python3"
  },
  "language_info": {
   "codemirror_mode": {
    "name": "ipython",
    "version": 3
   },
   "file_extension": ".py",
   "mimetype": "text/x-python",
   "name": "python",
   "nbconvert_exporter": "python",
   "pygments_lexer": "ipython3",
   "version": "3.10.16"
  }
 },
 "nbformat": 4,
 "nbformat_minor": 5
}
